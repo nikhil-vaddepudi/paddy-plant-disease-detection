{
 "cells": [
  {
   "cell_type": "code",
   "execution_count": 1,
   "id": "295ff18c",
   "metadata": {},
   "outputs": [],
   "source": [
    "import numpy as np\n",
    "import cv2\n",
    "import os\n",
    "import matplotlib.pyplot as plt\n",
    "import glob"
   ]
  },
  {
   "cell_type": "code",
   "execution_count": 2,
   "id": "14b4d825",
   "metadata": {},
   "outputs": [],
   "source": [
    "os.mkdir('C:\\\\Users\\\\Nikhil vaddepudi\\\\OneDrive\\\\Desktop\\\\final year project\\\\train_dataset_segmentk3')"
   ]
  },
  {
   "cell_type": "code",
   "execution_count": 9,
   "id": "5f549a5e",
   "metadata": {},
   "outputs": [],
   "source": [
    "os.mkdir('C:\\\\Users\\\\Nikhil vaddepudi\\\\OneDrive\\\\Desktop\\\\final year project\\\\train_dataset_segmentk3\\\\bacterial_leaf_blight')"
   ]
  },
  {
   "cell_type": "code",
   "execution_count": 10,
   "id": "c020954f",
   "metadata": {},
   "outputs": [],
   "source": [
    "i=0\n",
    "for img in glob.glob(\"C:\\\\Users\\\\Nikhil vaddepudi\\\\OneDrive\\\\Desktop\\\\final year project\\\\train dataset - Copy\\\\bacterial_leaf_blight\\\\*\"):\n",
    "    image=cv2.imread(img,cv2.IMREAD_GRAYSCALE)\n",
    "#     plt.imshow(image)\n",
    "#     plt.show()\n",
    "    image2 = cv2.cvtColor(image,cv2.COLOR_GRAY2RGB)\n",
    "    img2=image2.reshape((-1,3))\n",
    "    img2=np.float32(img2)\n",
    "    criteria=(cv2.TERM_CRITERIA_EPS+cv2.TERM_CRITERIA_MAX_ITER,10,1.0)\n",
    "    k=3\n",
    "   \n",
    "    ret,label,center=cv2.kmeans(img2,k,None,criteria,10,cv2.KMEANS_PP_CENTERS)\n",
    "    center=np.uint8(center)\n",
    "    res=center[label.flatten()]\n",
    "    res2=res.reshape((image2.shape))\n",
    "#     res3 = cv2.cvtColor(res2,cv2.COLOR_GRAY2RGB)\n",
    "#     plt.imshow(res2)\n",
    "#     plt.show()\n",
    "    \n",
    "    cv2.imwrite('C:\\\\Users\\\\Nikhil vaddepudi\\\\OneDrive\\\\Desktop\\\\final year project\\\\train_dataset_segmentk3\\\\bacterial_leaf_blight\\\\images%10i.jpg' %i,res2)\n",
    "#     cv2.imwrite('C:\\\\Users\\\\Nikhil vaddepudi\\\\OneDrive\\\\Desktop\\\\final year project\\\\train_dataset_segmentk3\\\\bacterial_leaf_blight\\\\images%10i.jpg' %i,image)\n",
    "    i+=1\n",
    "    cv2.waitKey(100)\n",
    "    cv2.destroyAllWindows()"
   ]
  },
  {
   "cell_type": "code",
   "execution_count": 11,
   "id": "b8e428dc",
   "metadata": {},
   "outputs": [],
   "source": [
    "os.mkdir('C:\\\\Users\\\\Nikhil vaddepudi\\\\OneDrive\\\\Desktop\\\\final year project\\\\train_dataset_segmentk3\\\\bacterial_leaf_streak')"
   ]
  },
  {
   "cell_type": "code",
   "execution_count": 12,
   "id": "3a2228a8",
   "metadata": {},
   "outputs": [],
   "source": [
    "i=0\n",
    "for img in glob.glob(\"C:\\\\Users\\\\Nikhil vaddepudi\\\\OneDrive\\\\Desktop\\\\final year project\\\\train dataset - Copy\\\\bacterial_leaf_streak\\\\*\"):\n",
    "    image=cv2.imread(img,cv2.IMREAD_GRAYSCALE)\n",
    "    image2 = cv2.cvtColor(image,cv2.COLOR_GRAY2RGB)\n",
    "    img2=image2.reshape((-1,3))\n",
    "    img2=np.float32(img2)\n",
    "    criteria=(cv2.TERM_CRITERIA_EPS+cv2.TERM_CRITERIA_MAX_ITER,10,1.0)\n",
    "    k=3\n",
    "   \n",
    "    ret,label,center=cv2.kmeans(img2,k,None,criteria,10,cv2.KMEANS_PP_CENTERS)\n",
    "    center=np.uint8(center)\n",
    "    res=center[label.flatten()]\n",
    "    res2=res.reshape((image2.shape))\n",
    "    cv2.imwrite('C:\\\\Users\\\\Nikhil vaddepudi\\\\OneDrive\\\\Desktop\\\\final year project\\\\train_dataset_segmentk3\\\\bacterial_leaf_streak\\\\images%10i.jpg' %i,res2)\n",
    "    i+=1\n",
    "    cv2.waitKey(100)\n",
    "    cv2.destroyAllWindows()"
   ]
  },
  {
   "cell_type": "code",
   "execution_count": 13,
   "id": "f2db823c",
   "metadata": {
    "scrolled": true
   },
   "outputs": [],
   "source": [
    "os.mkdir('C:\\\\Users\\\\Nikhil vaddepudi\\\\OneDrive\\\\Desktop\\\\final year project\\\\train_dataset_segmentk3\\\\bacterial_panicle_blight')"
   ]
  },
  {
   "cell_type": "code",
   "execution_count": 14,
   "id": "f5a8731a",
   "metadata": {},
   "outputs": [],
   "source": [
    "i=0\n",
    "for img in glob.glob(\"C:\\\\Users\\\\Nikhil vaddepudi\\\\OneDrive\\\\Desktop\\\\final year project\\\\train dataset - Copy\\\\bacterial_panicle_blight\\\\*\"):\n",
    "    image=cv2.imread(img,cv2.IMREAD_GRAYSCALE)\n",
    "    image2 = cv2.cvtColor(image,cv2.COLOR_GRAY2RGB)\n",
    "    img2=image2.reshape((-1,3))\n",
    "    img2=np.float32(img2)\n",
    "    criteria=(cv2.TERM_CRITERIA_EPS+cv2.TERM_CRITERIA_MAX_ITER,10,1.0)\n",
    "    k=3\n",
    "   \n",
    "    ret,label,center=cv2.kmeans(img2,k,None,criteria,10,cv2.KMEANS_PP_CENTERS)\n",
    "    center=np.uint8(center)\n",
    "    res=center[label.flatten()]\n",
    "    res2=res.reshape((image2.shape))\n",
    "    cv2.imwrite('C:\\\\Users\\\\Nikhil vaddepudi\\\\OneDrive\\\\Desktop\\\\final year project\\\\train_dataset_segmentk3\\\\bacterial_panicle_blight\\\\images%10i.jpg' %i,res2)\n",
    "    i+=1\n",
    "    cv2.waitKey(100)\n",
    "    cv2.destroyAllWindows()"
   ]
  },
  {
   "cell_type": "code",
   "execution_count": 2,
   "id": "4fa5ec69",
   "metadata": {
    "scrolled": true
   },
   "outputs": [],
   "source": [
    "os.mkdir('C:\\\\Users\\\\Nikhil vaddepudi\\\\OneDrive\\\\Desktop\\\\final year project\\\\train_dataset_segmentk3\\\\blast')"
   ]
  },
  {
   "cell_type": "code",
   "execution_count": 3,
   "id": "a74caa32",
   "metadata": {},
   "outputs": [],
   "source": [
    "i=0\n",
    "for img in glob.glob(\"C:\\\\Users\\\\Nikhil vaddepudi\\\\OneDrive\\\\Desktop\\\\final year project\\\\train dataset - Copy\\\\blast\\\\*\"):\n",
    "    image=cv2.imread(img,cv2.IMREAD_GRAYSCALE)\n",
    "    image2 = cv2.cvtColor(image,cv2.COLOR_GRAY2RGB)\n",
    "    img2=image2.reshape((-1,3))\n",
    "    img2=np.float32(img2)\n",
    "    criteria=(cv2.TERM_CRITERIA_EPS+cv2.TERM_CRITERIA_MAX_ITER,10,1.0)\n",
    "    k=3\n",
    "   \n",
    "    ret,label,center=cv2.kmeans(img2,k,None,criteria,10,cv2.KMEANS_PP_CENTERS)\n",
    "    center=np.uint8(center)\n",
    "    res=center[label.flatten()]\n",
    "    res2=res.reshape((image2.shape))\n",
    "    cv2.imwrite('C:\\\\Users\\\\Nikhil vaddepudi\\\\OneDrive\\\\Desktop\\\\final year project\\\\train_dataset_segmentk3\\\\blast\\\\images%10i.jpg' %i,res2)\n",
    "    i+=1\n",
    "    cv2.waitKey(100)\n",
    "    cv2.destroyAllWindows()"
   ]
  },
  {
   "cell_type": "code",
   "execution_count": 4,
   "id": "8f944cb9",
   "metadata": {},
   "outputs": [],
   "source": [
    "os.mkdir('C:\\\\Users\\\\Nikhil vaddepudi\\\\OneDrive\\\\Desktop\\\\final year project\\\\train_dataset_segmentk3\\\\brown_spot')"
   ]
  },
  {
   "cell_type": "code",
   "execution_count": 5,
   "id": "fc6f785a",
   "metadata": {},
   "outputs": [],
   "source": [
    "i=0\n",
    "for img in glob.glob(\"C:\\\\Users\\\\Nikhil vaddepudi\\\\OneDrive\\\\Desktop\\\\final year project\\\\train dataset - Copy\\\\brown_spot\\\\*\"):\n",
    "    image=cv2.imread(img,cv2.IMREAD_GRAYSCALE)\n",
    "    image2 = cv2.cvtColor(image,cv2.COLOR_GRAY2RGB)\n",
    "    img2=image2.reshape((-1,3))\n",
    "    img2=np.float32(img2)\n",
    "    criteria=(cv2.TERM_CRITERIA_EPS+cv2.TERM_CRITERIA_MAX_ITER,10,1.0)\n",
    "    k=3\n",
    "   \n",
    "    ret,label,center=cv2.kmeans(img2,k,None,criteria,10,cv2.KMEANS_PP_CENTERS)\n",
    "    center=np.uint8(center)\n",
    "    res=center[label.flatten()]\n",
    "    res2=res.reshape((image2.shape))\n",
    "    cv2.imwrite('C:\\\\Users\\\\Nikhil vaddepudi\\\\OneDrive\\\\Desktop\\\\final year project\\\\train_dataset_segmentk3\\\\brown_spot\\\\images%10i.jpg' %i,res2)\n",
    "    i+=1\n",
    "    cv2.waitKey(100)\n",
    "    cv2.destroyAllWindows()"
   ]
  },
  {
   "cell_type": "code",
   "execution_count": 6,
   "id": "59ffba3b",
   "metadata": {},
   "outputs": [],
   "source": [
    "os.mkdir('C:\\\\Users\\\\Nikhil vaddepudi\\\\OneDrive\\\\Desktop\\\\final year project\\\\train_dataset_segmentk3\\\\dead_heart')"
   ]
  },
  {
   "cell_type": "code",
   "execution_count": 7,
   "id": "a0eba49c",
   "metadata": {},
   "outputs": [],
   "source": [
    "i=0\n",
    "for img in glob.glob(\"C:\\\\Users\\\\Nikhil vaddepudi\\\\OneDrive\\\\Desktop\\\\final year project\\\\train dataset - Copy\\\\dead_heart\\\\*\"):\n",
    "    image=cv2.imread(img,cv2.IMREAD_GRAYSCALE)\n",
    "    image2 = cv2.cvtColor(image,cv2.COLOR_GRAY2RGB)\n",
    "    img2=image2.reshape((-1,3))\n",
    "    img2=np.float32(img2)\n",
    "    criteria=(cv2.TERM_CRITERIA_EPS+cv2.TERM_CRITERIA_MAX_ITER,10,1.0)\n",
    "    k=3\n",
    "   \n",
    "    ret,label,center=cv2.kmeans(img2,k,None,criteria,10,cv2.KMEANS_PP_CENTERS)\n",
    "    center=np.uint8(center)\n",
    "    res=center[label.flatten()]\n",
    "    res2=res.reshape((image2.shape))\n",
    "    cv2.imwrite('C:\\\\Users\\\\Nikhil vaddepudi\\\\OneDrive\\\\Desktop\\\\final year project\\\\train_dataset_segmentk3\\\\dead_heart\\\\images%10i.jpg' %i,res2)\n",
    "    i+=1\n",
    "    cv2.waitKey(100)\n",
    "    cv2.destroyAllWindows()"
   ]
  },
  {
   "cell_type": "code",
   "execution_count": 8,
   "id": "5253836d",
   "metadata": {
    "scrolled": true
   },
   "outputs": [],
   "source": [
    "os.mkdir('C:\\\\Users\\\\Nikhil vaddepudi\\\\OneDrive\\\\Desktop\\\\final year project\\\\train_dataset_segmentk3\\\\downy_mildew')"
   ]
  },
  {
   "cell_type": "code",
   "execution_count": 9,
   "id": "d0684b72",
   "metadata": {},
   "outputs": [
    {
     "ename": "KeyboardInterrupt",
     "evalue": "",
     "output_type": "error",
     "traceback": [
      "\u001b[1;31m---------------------------------------------------------------------------\u001b[0m",
      "\u001b[1;31mKeyboardInterrupt\u001b[0m                         Traceback (most recent call last)",
      "Input \u001b[1;32mIn [9]\u001b[0m, in \u001b[0;36m<cell line: 2>\u001b[1;34m()\u001b[0m\n\u001b[0;32m     14\u001b[0m cv2\u001b[38;5;241m.\u001b[39mimwrite(\u001b[38;5;124m'\u001b[39m\u001b[38;5;124mC:\u001b[39m\u001b[38;5;130;01m\\\\\u001b[39;00m\u001b[38;5;124mUsers\u001b[39m\u001b[38;5;130;01m\\\\\u001b[39;00m\u001b[38;5;124mNikhil vaddepudi\u001b[39m\u001b[38;5;130;01m\\\\\u001b[39;00m\u001b[38;5;124mOneDrive\u001b[39m\u001b[38;5;130;01m\\\\\u001b[39;00m\u001b[38;5;124mDesktop\u001b[39m\u001b[38;5;130;01m\\\\\u001b[39;00m\u001b[38;5;124mfinal year project\u001b[39m\u001b[38;5;130;01m\\\\\u001b[39;00m\u001b[38;5;124mtrain_dataset_segmentk3\u001b[39m\u001b[38;5;130;01m\\\\\u001b[39;00m\u001b[38;5;124mdowny_mildew\u001b[39m\u001b[38;5;130;01m\\\\\u001b[39;00m\u001b[38;5;124mimages\u001b[39m\u001b[38;5;132;01m%10i\u001b[39;00m\u001b[38;5;124m.jpg\u001b[39m\u001b[38;5;124m'\u001b[39m \u001b[38;5;241m%\u001b[39mi,res2)\n\u001b[0;32m     15\u001b[0m i\u001b[38;5;241m+\u001b[39m\u001b[38;5;241m=\u001b[39m\u001b[38;5;241m1\u001b[39m\n\u001b[1;32m---> 16\u001b[0m \u001b[43mcv2\u001b[49m\u001b[38;5;241;43m.\u001b[39;49m\u001b[43mwaitKey\u001b[49m\u001b[43m(\u001b[49m\u001b[38;5;241;43m100\u001b[39;49m\u001b[43m)\u001b[49m\n\u001b[0;32m     17\u001b[0m cv2\u001b[38;5;241m.\u001b[39mdestroyAllWindows()\n",
      "\u001b[1;31mKeyboardInterrupt\u001b[0m: "
     ]
    }
   ],
   "source": [
    "i=0\n",
    "for img in glob.glob(\"C:\\\\Users\\\\Nikhil vaddepudi\\\\OneDrive\\\\Desktop\\\\final year project\\\\train dataset - Copy\\\\downy_mildew\\\\*\"):\n",
    "    image=cv2.imread(img,cv2.IMREAD_GRAYSCALE)\n",
    "    image2 = cv2.cvtColor(image,cv2.COLOR_GRAY2RGB)\n",
    "    img2=image2.reshape((-1,3))\n",
    "    img2=np.float32(img2)\n",
    "    criteria=(cv2.TERM_CRITERIA_EPS+cv2.TERM_CRITERIA_MAX_ITER,10,1.0)\n",
    "    k=3\n",
    "   \n",
    "    ret,label,center=cv2.kmeans(img2,k,None,criteria,10,cv2.KMEANS_PP_CENTERS)\n",
    "    center=np.uint8(center)\n",
    "    res=center[label.flatten()]\n",
    "    res2=res.reshape((image2.shape))\n",
    "    cv2.imwrite('C:\\\\Users\\\\Nikhil vaddepudi\\\\OneDrive\\\\Desktop\\\\final year project\\\\train_dataset_segmentk3\\\\downy_mildew\\\\images%10i.jpg' %i,res2)\n",
    "    i+=1\n",
    "    cv2.waitKey(100)\n",
    "    cv2.destroyAllWindows()"
   ]
  },
  {
   "cell_type": "code",
   "execution_count": 4,
   "id": "87957993",
   "metadata": {},
   "outputs": [],
   "source": [
    "os.mkdir('C:\\\\Users\\\\Nikhil vaddepudi\\\\OneDrive\\\\Desktop\\\\final year project\\\\train_dataset_segmentk3\\\\hispa')\n"
   ]
  },
  {
   "cell_type": "code",
   "execution_count": 5,
   "id": "83428191",
   "metadata": {},
   "outputs": [],
   "source": [
    "i=0\n",
    "for img in glob.glob(\"C:\\\\Users\\\\Nikhil vaddepudi\\\\OneDrive\\\\Desktop\\\\final year project\\\\train dataset - Copy\\\\hispa\\\\*\"):\n",
    "    image=cv2.imread(img,cv2.IMREAD_GRAYSCALE)\n",
    "    image2 = cv2.cvtColor(image,cv2.COLOR_GRAY2RGB)\n",
    "    img2=image2.reshape((-1,3))\n",
    "    img2=np.float32(img2)\n",
    "    criteria=(cv2.TERM_CRITERIA_EPS+cv2.TERM_CRITERIA_MAX_ITER,10,1.0)\n",
    "    k=3\n",
    "   \n",
    "    ret,label,center=cv2.kmeans(img2,k,None,criteria,10,cv2.KMEANS_PP_CENTERS)\n",
    "    center=np.uint8(center)\n",
    "    res=center[label.flatten()]\n",
    "    res2=res.reshape((image2.shape))\n",
    "    cv2.imwrite('C:\\\\Users\\\\Nikhil vaddepudi\\\\OneDrive\\\\Desktop\\\\final year project\\\\train_dataset_segmentk3\\\\hispa\\\\images%10i.jpg' %i,res2)\n",
    "    i+=1\n",
    "    cv2.waitKey(100)\n",
    "    cv2.destroyAllWindows()"
   ]
  },
  {
   "cell_type": "code",
   "execution_count": 6,
   "id": "77eb5511",
   "metadata": {},
   "outputs": [],
   "source": [
    "os.mkdir('C:\\\\Users\\\\Nikhil vaddepudi\\\\OneDrive\\\\Desktop\\\\final year project\\\\train_dataset_segmentk3\\\\normal')"
   ]
  },
  {
   "cell_type": "code",
   "execution_count": 7,
   "id": "ff785bec",
   "metadata": {},
   "outputs": [],
   "source": [
    "i=0\n",
    "for img in glob.glob(\"C:\\\\Users\\\\Nikhil vaddepudi\\\\OneDrive\\\\Desktop\\\\final year project\\\\train dataset - Copy\\\\normal\\\\*\"):\n",
    "    image=cv2.imread(img,cv2.IMREAD_GRAYSCALE)\n",
    "    image2 = cv2.cvtColor(image,cv2.COLOR_GRAY2RGB)\n",
    "    img2=image2.reshape((-1,3))\n",
    "    img2=np.float32(img2)\n",
    "    criteria=(cv2.TERM_CRITERIA_EPS+cv2.TERM_CRITERIA_MAX_ITER,10,1.0)\n",
    "    k=3\n",
    "   \n",
    "    ret,label,center=cv2.kmeans(img2,k,None,criteria,10,cv2.KMEANS_PP_CENTERS)\n",
    "    center=np.uint8(center)\n",
    "    res=center[label.flatten()]\n",
    "    res2=res.reshape((image2.shape))\n",
    "    cv2.imwrite('C:\\\\Users\\\\Nikhil vaddepudi\\\\OneDrive\\\\Desktop\\\\final year project\\\\train_dataset_segmentk3\\\\normal\\\\images%10i.jpg' %i,res2)\n",
    "    i+=1\n",
    "    cv2.waitKey(100)\n",
    "    cv2.destroyAllWindows()"
   ]
  },
  {
   "cell_type": "code",
   "execution_count": null,
   "id": "869c7983",
   "metadata": {},
   "outputs": [],
   "source": []
  },
  {
   "cell_type": "code",
   "execution_count": 8,
   "id": "663e3d91",
   "metadata": {},
   "outputs": [],
   "source": [
    "os.mkdir('C:\\\\Users\\\\Nikhil vaddepudi\\\\OneDrive\\\\Desktop\\\\final year project\\\\train_dataset_segmentk3\\\\tungro')"
   ]
  },
  {
   "cell_type": "code",
   "execution_count": 9,
   "id": "49bc0064",
   "metadata": {},
   "outputs": [],
   "source": [
    "i=0\n",
    "for img in glob.glob(\"C:\\\\Users\\\\Nikhil vaddepudi\\\\OneDrive\\\\Desktop\\\\final year project\\\\train dataset - Copy\\\\tungro\\\\*\"):\n",
    "    image=cv2.imread(img,cv2.IMREAD_GRAYSCALE)\n",
    "    image2 = cv2.cvtColor(image,cv2.COLOR_GRAY2RGB)\n",
    "    img2=image2.reshape((-1,3))\n",
    "    img2=np.float32(img2)\n",
    "    criteria=(cv2.TERM_CRITERIA_EPS+cv2.TERM_CRITERIA_MAX_ITER,10,1.0)\n",
    "    k=3\n",
    "   \n",
    "    ret,label,center=cv2.kmeans(img2,k,None,criteria,10,cv2.KMEANS_PP_CENTERS)\n",
    "    center=np.uint8(center)\n",
    "    res=center[label.flatten()]\n",
    "    res2=res.reshape((image2.shape))\n",
    "    cv2.imwrite('C:\\\\Users\\\\Nikhil vaddepudi\\\\OneDrive\\\\Desktop\\\\final year project\\\\train_dataset_segment1\\\\tungro\\\\images%10i.jpg' %i,res2)\n",
    "    i+=1\n",
    "    cv2.waitKey(100)\n",
    "    cv2.destroyAllWindows()"
   ]
  },
  {
   "cell_type": "code",
   "execution_count": null,
   "id": "96ca342e",
   "metadata": {},
   "outputs": [],
   "source": []
  }
 ],
 "metadata": {
  "kernelspec": {
   "display_name": "Python 3 (ipykernel)",
   "language": "python",
   "name": "python3"
  },
  "language_info": {
   "codemirror_mode": {
    "name": "ipython",
    "version": 3
   },
   "file_extension": ".py",
   "mimetype": "text/x-python",
   "name": "python",
   "nbconvert_exporter": "python",
   "pygments_lexer": "ipython3",
   "version": "3.9.12"
  }
 },
 "nbformat": 4,
 "nbformat_minor": 5
}
